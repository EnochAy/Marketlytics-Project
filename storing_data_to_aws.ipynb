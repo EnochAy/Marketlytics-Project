{
 "cells": [
  {
   "cell_type": "code",
   "execution_count": 10,
   "metadata": {},
   "outputs": [
    {
     "ename": "TypeError",
     "evalue": "got an unexpected keyword argument 'service_name'",
     "output_type": "error",
     "traceback": [
      "\u001b[1;31m---------------------------------------------------------------------------\u001b[0m",
      "\u001b[1;31mTypeError\u001b[0m                                 Traceback (most recent call last)",
      "\u001b[1;32mc:\\Users\\USER\\Desktop\\Marketlytics Project\\storing_data_to_aws.ipynb Cell 1'\u001b[0m in \u001b[0;36m<cell line: 8>\u001b[1;34m()\u001b[0m\n\u001b[0;32m      <a href='vscode-notebook-cell:/c%3A/Users/USER/Desktop/Marketlytics%20Project/storing_data_to_aws.ipynb#ch0000000?line=4'>5</a>\u001b[0m df \u001b[39m=\u001b[39m pd\u001b[39m.\u001b[39mDataFrame({\u001b[39m\"\u001b[39m\u001b[39mid\u001b[39m\u001b[39m\"\u001b[39m: [\u001b[39m1\u001b[39m, \u001b[39m2\u001b[39m], \u001b[39m\"\u001b[39m\u001b[39mvalue\u001b[39m\u001b[39m\"\u001b[39m: [\u001b[39m\"\u001b[39m\u001b[39mfoo\u001b[39m\u001b[39m\"\u001b[39m, \u001b[39m\"\u001b[39m\u001b[39mboo\u001b[39m\u001b[39m\"\u001b[39m]})\n\u001b[0;32m      <a href='vscode-notebook-cell:/c%3A/Users/USER/Desktop/Marketlytics%20Project/storing_data_to_aws.ipynb#ch0000000?line=6'>7</a>\u001b[0m \u001b[39m# Storing data on Data Lake\u001b[39;00m\n\u001b[1;32m----> <a href='vscode-notebook-cell:/c%3A/Users/USER/Desktop/Marketlytics%20Project/storing_data_to_aws.ipynb#ch0000000?line=7'>8</a>\u001b[0m wr\u001b[39m.\u001b[39;49ms3\u001b[39m.\u001b[39;49mto_parquet(\n\u001b[0;32m      <a href='vscode-notebook-cell:/c%3A/Users/USER/Desktop/Marketlytics%20Project/storing_data_to_aws.ipynb#ch0000000?line=8'>9</a>\u001b[0m     service_name \u001b[39m=\u001b[39;49m \u001b[39m\"\u001b[39;49m\u001b[39ms3\u001b[39;49m\u001b[39m\"\u001b[39;49m,\n\u001b[0;32m     <a href='vscode-notebook-cell:/c%3A/Users/USER/Desktop/Marketlytics%20Project/storing_data_to_aws.ipynb#ch0000000?line=9'>10</a>\u001b[0m     region_name \u001b[39m=\u001b[39;49m \u001b[39m\"\u001b[39;49m\u001b[39mus-east-1\u001b[39;49m\u001b[39m\"\u001b[39;49m,\n\u001b[0;32m     <a href='vscode-notebook-cell:/c%3A/Users/USER/Desktop/Marketlytics%20Project/storing_data_to_aws.ipynb#ch0000000?line=10'>11</a>\u001b[0m     df\u001b[39m=\u001b[39;49mdf,\n\u001b[0;32m     <a href='vscode-notebook-cell:/c%3A/Users/USER/Desktop/Marketlytics%20Project/storing_data_to_aws.ipynb#ch0000000?line=11'>12</a>\u001b[0m     path\u001b[39m=\u001b[39;49m\u001b[39m\"\u001b[39;49m\u001b[39ms3://bucket/dataset/\u001b[39;49m\u001b[39m\"\u001b[39;49m,\n\u001b[0;32m     <a href='vscode-notebook-cell:/c%3A/Users/USER/Desktop/Marketlytics%20Project/storing_data_to_aws.ipynb#ch0000000?line=12'>13</a>\u001b[0m     dataset\u001b[39m=\u001b[39;49m\u001b[39mTrue\u001b[39;49;00m,\n\u001b[0;32m     <a href='vscode-notebook-cell:/c%3A/Users/USER/Desktop/Marketlytics%20Project/storing_data_to_aws.ipynb#ch0000000?line=13'>14</a>\u001b[0m     database\u001b[39m=\u001b[39;49m\u001b[39m\"\u001b[39;49m\u001b[39mmy_db\u001b[39;49m\u001b[39m\"\u001b[39;49m,\n\u001b[0;32m     <a href='vscode-notebook-cell:/c%3A/Users/USER/Desktop/Marketlytics%20Project/storing_data_to_aws.ipynb#ch0000000?line=14'>15</a>\u001b[0m     table\u001b[39m=\u001b[39;49m\u001b[39m\"\u001b[39;49m\u001b[39mmy_table\u001b[39;49m\u001b[39m\"\u001b[39;49m\n\u001b[0;32m     <a href='vscode-notebook-cell:/c%3A/Users/USER/Desktop/Marketlytics%20Project/storing_data_to_aws.ipynb#ch0000000?line=15'>16</a>\u001b[0m )\n\u001b[0;32m     <a href='vscode-notebook-cell:/c%3A/Users/USER/Desktop/Marketlytics%20Project/storing_data_to_aws.ipynb#ch0000000?line=17'>18</a>\u001b[0m \u001b[39m# Retrieving the data directly from Amazon S3\u001b[39;00m\n\u001b[0;32m     <a href='vscode-notebook-cell:/c%3A/Users/USER/Desktop/Marketlytics%20Project/storing_data_to_aws.ipynb#ch0000000?line=18'>19</a>\u001b[0m df \u001b[39m=\u001b[39m wr\u001b[39m.\u001b[39ms3\u001b[39m.\u001b[39mread_parquet(\u001b[39m\"\u001b[39m\u001b[39ms3://bucket/dataset/\u001b[39m\u001b[39m\"\u001b[39m, dataset\u001b[39m=\u001b[39m\u001b[39mTrue\u001b[39;00m)\n",
      "File \u001b[1;32m~\\AppData\\Roaming\\Python\\Python310\\site-packages\\awswrangler\\_config.py:444\u001b[0m, in \u001b[0;36mapply_configs.<locals>.wrapper\u001b[1;34m(*args_raw, **kwargs)\u001b[0m\n\u001b[0;32m    443\u001b[0m \u001b[39mdef\u001b[39;00m \u001b[39mwrapper\u001b[39m(\u001b[39m*\u001b[39margs_raw: Any, \u001b[39m*\u001b[39m\u001b[39m*\u001b[39mkwargs: Any) \u001b[39m-\u001b[39m\u001b[39m>\u001b[39m Any:\n\u001b[1;32m--> 444\u001b[0m     args: Dict[\u001b[39mstr\u001b[39m, Any] \u001b[39m=\u001b[39m signature\u001b[39m.\u001b[39mbind_partial(\u001b[39m*\u001b[39margs_raw, \u001b[39m*\u001b[39m\u001b[39m*\u001b[39mkwargs)\u001b[39m.\u001b[39marguments\n\u001b[0;32m    445\u001b[0m     \u001b[39mfor\u001b[39;00m name \u001b[39min\u001b[39;00m available_configs:\n\u001b[0;32m    446\u001b[0m         \u001b[39mif\u001b[39;00m \u001b[39mhasattr\u001b[39m(config, name) \u001b[39mis\u001b[39;00m \u001b[39mTrue\u001b[39;00m:\n",
      "File \u001b[1;32mc:\\Program Files\\Python310\\lib\\inspect.py:3186\u001b[0m, in \u001b[0;36mSignature.bind_partial\u001b[1;34m(self, *args, **kwargs)\u001b[0m\n\u001b[0;32m   3181\u001b[0m \u001b[39mdef\u001b[39;00m \u001b[39mbind_partial\u001b[39m(\u001b[39mself\u001b[39m, \u001b[39m/\u001b[39m, \u001b[39m*\u001b[39margs, \u001b[39m*\u001b[39m\u001b[39m*\u001b[39mkwargs):\n\u001b[0;32m   3182\u001b[0m     \u001b[39m\"\"\"Get a BoundArguments object, that partially maps the\u001b[39;00m\n\u001b[0;32m   3183\u001b[0m \u001b[39m    passed `args` and `kwargs` to the function's signature.\u001b[39;00m\n\u001b[0;32m   3184\u001b[0m \u001b[39m    Raises `TypeError` if the passed arguments can not be bound.\u001b[39;00m\n\u001b[0;32m   3185\u001b[0m \u001b[39m    \"\"\"\u001b[39;00m\n\u001b[1;32m-> 3186\u001b[0m     \u001b[39mreturn\u001b[39;00m \u001b[39mself\u001b[39;49m\u001b[39m.\u001b[39;49m_bind(args, kwargs, partial\u001b[39m=\u001b[39;49m\u001b[39mTrue\u001b[39;49;00m)\n",
      "File \u001b[1;32mc:\\Program Files\\Python310\\lib\\inspect.py:3168\u001b[0m, in \u001b[0;36mSignature._bind\u001b[1;34m(self, args, kwargs, partial)\u001b[0m\n\u001b[0;32m   3166\u001b[0m         arguments[kwargs_param\u001b[39m.\u001b[39mname] \u001b[39m=\u001b[39m kwargs\n\u001b[0;32m   3167\u001b[0m     \u001b[39melse\u001b[39;00m:\n\u001b[1;32m-> 3168\u001b[0m         \u001b[39mraise\u001b[39;00m \u001b[39mTypeError\u001b[39;00m(\n\u001b[0;32m   3169\u001b[0m             \u001b[39m'\u001b[39m\u001b[39mgot an unexpected keyword argument \u001b[39m\u001b[39m{arg!r}\u001b[39;00m\u001b[39m'\u001b[39m\u001b[39m.\u001b[39mformat(\n\u001b[0;32m   3170\u001b[0m                 arg\u001b[39m=\u001b[39m\u001b[39mnext\u001b[39m(\u001b[39miter\u001b[39m(kwargs))))\n\u001b[0;32m   3172\u001b[0m \u001b[39mreturn\u001b[39;00m \u001b[39mself\u001b[39m\u001b[39m.\u001b[39m_bound_arguments_cls(\u001b[39mself\u001b[39m, arguments)\n",
      "\u001b[1;31mTypeError\u001b[0m: got an unexpected keyword argument 'service_name'"
     ]
    }
   ],
   "source": [
    "import awswrangler as wr\n",
    "import pandas as pd\n",
    "from datetime import datetime\n",
    "\n",
    "df = pd.DataFrame({\"id\": [1, 2], \"value\": [\"foo\", \"boo\"]})\n",
    "\n",
    "# Storing data on Data Lake\n",
    "wr.s3.to_parquet(\n",
    "    service_name = \"s3\",\n",
    "    region_name = \"us-east-1\",\n",
    "    df=df,\n",
    "    path=\"s3://bucket/dataset/\",\n",
    "    dataset=True,\n",
    "    database=\"my_db\",\n",
    "    table=\"my_table\"\n",
    ")\n",
    "\n",
    "# Retrieving the data directly from Amazon S3\n",
    "df = wr.s3.read_parquet(\"s3://bucket/dataset/\", dataset=True)\n",
    "\n",
    "# Retrieving the data from Amazon Athena\n",
    "df = wr.athena.read_sql_query(\"SELECT * FROM my_table\", database=\"my_db\")\n",
    "\n",
    "# Get a Redshift connection from Glue Catalog and retrieving data from Redshift Spectrum\n",
    "con = wr.redshift.connect(\"my-glue-connection\")\n",
    "df = wr.redshift.read_sql_query(\"SELECT * FROM external_schema.my_table\", con=con)\n",
    "con.close()\n",
    "\n",
    "# Amazon Timestream Write\n",
    "df = pd.DataFrame({\n",
    "    \"time\": [datetime.now(), datetime.now()],   \n",
    "    \"my_dimension\": [\"foo\", \"boo\"],\n",
    "    \"measure\": [1.0, 1.1],\n",
    "})\n",
    "rejected_records = wr.timestream.write(df,\n",
    "    database=\"sampleDB\",\n",
    "    table=\"sampleTable\",\n",
    "    time_col=\"time\",\n",
    "    measure_col=\"measure\",\n",
    "    dimensions_cols=[\"my_dimension\"],\n",
    ")\n",
    "\n",
    "# Amazon Timestream Query\n",
    "wr.timestream.query(\"\"\"\n",
    "SELECT time, measure_value::double, my_dimension\n",
    "FROM \"sampleDB\".\"sampleTable\" ORDER BY time DESC LIMIT 3\n",
    "\"\"\")\n"
   ]
  }
 ],
 "metadata": {
  "kernelspec": {
   "display_name": "Python 3.10.2 64-bit",
   "language": "python",
   "name": "python3"
  },
  "language_info": {
   "codemirror_mode": {
    "name": "ipython",
    "version": 3
   },
   "file_extension": ".py",
   "mimetype": "text/x-python",
   "name": "python",
   "nbconvert_exporter": "python",
   "pygments_lexer": "ipython3",
   "version": "3.10.2"
  },
  "orig_nbformat": 4,
  "vscode": {
   "interpreter": {
    "hash": "26de051ba29f2982a8de78e945f0abaf191376122a1563185a90213a26c5da77"
   }
  }
 },
 "nbformat": 4,
 "nbformat_minor": 2
}
